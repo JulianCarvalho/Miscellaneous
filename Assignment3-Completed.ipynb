{
 "cells": [
  {
   "cell_type": "markdown",
   "metadata": {},
   "source": [
    "Assignment 3\n",
    "\n",
    "Name: \n",
    "Date: \n",
    "\n",
    "\n",
    "Read the ufo csv file into a pandas Dataframe"
   ]
  },
  {
   "cell_type": "code",
   "execution_count": 1,
   "metadata": {},
   "outputs": [],
   "source": [
    "import pandas as pd\n",
    "\n",
    "#pd.set_option(\"display.max_rows\", 10) \n",
    "#the previous line was disabled to \n",
    "ufos = pd.read_csv(\"complete.csv\")"
   ]
  },
  {
   "cell_type": "markdown",
   "metadata": {},
   "source": [
    "\n",
    "1. How many rows and columns are in the dataset? Should display as \"Rows = 99999  Columns = 999\"\n"
   ]
  },
  {
   "cell_type": "code",
   "execution_count": 2,
   "metadata": {},
   "outputs": [
    {
     "name": "stdout",
     "output_type": "stream",
     "text": [
      "Rows = 88874 Columns = 11\n"
     ]
    }
   ],
   "source": [
    "#complete\n",
    "#ufos.shape\n",
    "ro = len(ufos)\n",
    "co = len(ufos.columns)\n",
    "answer = \"Rows = \" + str(ro) + \" Columns = \" + str(co)\n",
    "print(answer)"
   ]
  },
  {
   "cell_type": "markdown",
   "metadata": {},
   "source": [
    "\n",
    "2. List all of the columns in the data set. \n"
   ]
  },
  {
   "cell_type": "code",
   "execution_count": 3,
   "metadata": {},
   "outputs": [
    {
     "data": {
      "text/plain": [
       "['datetime',\n",
       " 'city',\n",
       " 'state',\n",
       " 'country',\n",
       " 'shape',\n",
       " 'duration (seconds)',\n",
       " 'duration (hours/min)',\n",
       " 'comments',\n",
       " 'date posted',\n",
       " 'latitude',\n",
       " 'longitude']"
      ]
     },
     "execution_count": 3,
     "metadata": {},
     "output_type": "execute_result"
    }
   ],
   "source": [
    "#complete\n",
    "list(ufos.columns)"
   ]
  },
  {
   "cell_type": "markdown",
   "metadata": {},
   "source": [
    "\n",
    "3. Rename the column 'duration (seconds)' to be 'dur_s' and rename the 'duration (hours/min)' to be 'dur'. Show the first few rows of the table to show that the changes have been made. \n"
   ]
  },
  {
   "cell_type": "code",
   "execution_count": 4,
   "metadata": {},
   "outputs": [
    {
     "data": {
      "text/html": [
       "<div>\n",
       "<style scoped>\n",
       "    .dataframe tbody tr th:only-of-type {\n",
       "        vertical-align: middle;\n",
       "    }\n",
       "\n",
       "    .dataframe tbody tr th {\n",
       "        vertical-align: top;\n",
       "    }\n",
       "\n",
       "    .dataframe thead th {\n",
       "        text-align: right;\n",
       "    }\n",
       "</style>\n",
       "<table border=\"1\" class=\"dataframe\">\n",
       "  <thead>\n",
       "    <tr style=\"text-align: right;\">\n",
       "      <th></th>\n",
       "      <th>datetime</th>\n",
       "      <th>city</th>\n",
       "      <th>state</th>\n",
       "      <th>country</th>\n",
       "      <th>shape</th>\n",
       "      <th>dur_s</th>\n",
       "      <th>dur</th>\n",
       "      <th>comments</th>\n",
       "      <th>date posted</th>\n",
       "      <th>latitude</th>\n",
       "      <th>longitude</th>\n",
       "    </tr>\n",
       "  </thead>\n",
       "  <tbody>\n",
       "    <tr>\n",
       "      <th>0</th>\n",
       "      <td>10/10/1949 20:30</td>\n",
       "      <td>san marcos</td>\n",
       "      <td>tx</td>\n",
       "      <td>us</td>\n",
       "      <td>cylinder</td>\n",
       "      <td>2700.0</td>\n",
       "      <td>45 minutes</td>\n",
       "      <td>This event took place in early fall around 194...</td>\n",
       "      <td>4/27/2004</td>\n",
       "      <td>29.8830556</td>\n",
       "      <td>-97.941111</td>\n",
       "    </tr>\n",
       "    <tr>\n",
       "      <th>1</th>\n",
       "      <td>10/10/1949 21:00</td>\n",
       "      <td>lackland afb</td>\n",
       "      <td>tx</td>\n",
       "      <td>NaN</td>\n",
       "      <td>light</td>\n",
       "      <td>7200.0</td>\n",
       "      <td>1-2 hrs</td>\n",
       "      <td>1949 Lackland AFB&amp;#44 TX.  Lights racing acros...</td>\n",
       "      <td>12/16/2005</td>\n",
       "      <td>29.38421</td>\n",
       "      <td>-98.581082</td>\n",
       "    </tr>\n",
       "    <tr>\n",
       "      <th>2</th>\n",
       "      <td>10/10/1955 17:00</td>\n",
       "      <td>chester (uk/england)</td>\n",
       "      <td>NaN</td>\n",
       "      <td>gb</td>\n",
       "      <td>circle</td>\n",
       "      <td>20.0</td>\n",
       "      <td>20 seconds</td>\n",
       "      <td>Green/Orange circular disc over Chester&amp;#44 En...</td>\n",
       "      <td>1/21/2008</td>\n",
       "      <td>53.2</td>\n",
       "      <td>-2.916667</td>\n",
       "    </tr>\n",
       "    <tr>\n",
       "      <th>3</th>\n",
       "      <td>10/10/1956 21:00</td>\n",
       "      <td>edna</td>\n",
       "      <td>tx</td>\n",
       "      <td>us</td>\n",
       "      <td>circle</td>\n",
       "      <td>20.0</td>\n",
       "      <td>1/2 hour</td>\n",
       "      <td>My older brother and twin sister were leaving ...</td>\n",
       "      <td>1/17/2004</td>\n",
       "      <td>28.9783333</td>\n",
       "      <td>-96.645833</td>\n",
       "    </tr>\n",
       "    <tr>\n",
       "      <th>4</th>\n",
       "      <td>10/10/1960 20:00</td>\n",
       "      <td>kaneohe</td>\n",
       "      <td>hi</td>\n",
       "      <td>us</td>\n",
       "      <td>light</td>\n",
       "      <td>900.0</td>\n",
       "      <td>15 minutes</td>\n",
       "      <td>AS a Marine 1st Lt. flying an FJ4B fighter/att...</td>\n",
       "      <td>1/22/2004</td>\n",
       "      <td>21.4180556</td>\n",
       "      <td>-157.803611</td>\n",
       "    </tr>\n",
       "  </tbody>\n",
       "</table>\n",
       "</div>"
      ],
      "text/plain": [
       "           datetime                  city state country     shape   dur_s  \\\n",
       "0  10/10/1949 20:30            san marcos    tx      us  cylinder  2700.0   \n",
       "1  10/10/1949 21:00          lackland afb    tx     NaN     light  7200.0   \n",
       "2  10/10/1955 17:00  chester (uk/england)   NaN      gb    circle    20.0   \n",
       "3  10/10/1956 21:00                  edna    tx      us    circle    20.0   \n",
       "4  10/10/1960 20:00               kaneohe    hi      us     light   900.0   \n",
       "\n",
       "          dur                                           comments date posted  \\\n",
       "0  45 minutes  This event took place in early fall around 194...   4/27/2004   \n",
       "1     1-2 hrs  1949 Lackland AFB&#44 TX.  Lights racing acros...  12/16/2005   \n",
       "2  20 seconds  Green/Orange circular disc over Chester&#44 En...   1/21/2008   \n",
       "3    1/2 hour  My older brother and twin sister were leaving ...   1/17/2004   \n",
       "4  15 minutes  AS a Marine 1st Lt. flying an FJ4B fighter/att...   1/22/2004   \n",
       "\n",
       "     latitude   longitude  \n",
       "0  29.8830556  -97.941111  \n",
       "1    29.38421  -98.581082  \n",
       "2        53.2   -2.916667  \n",
       "3  28.9783333  -96.645833  \n",
       "4  21.4180556 -157.803611  "
      ]
     },
     "execution_count": 4,
     "metadata": {},
     "output_type": "execute_result"
    }
   ],
   "source": [
    "#complete\n",
    "ufos = ufos.rename(columns={\"duration (seconds)\":\"dur_s\", \"duration (hours/min)\":\"dur\"})\n",
    "ufos.head()"
   ]
  },
  {
   "cell_type": "markdown",
   "metadata": {},
   "source": [
    "\n",
    "4. We are going to work with the city field. How many of those are null? Display a sample and then display the number. \n"
   ]
  },
  {
   "cell_type": "code",
   "execution_count": 5,
   "metadata": {},
   "outputs": [
    {
     "name": "stdout",
     "output_type": "stream",
     "text": [
      "              datetime city state country shape  dur_s  dur comments  \\\n",
      "1710  10/14/2004 13:00  NaN   NaN     NaN   NaN    0.0  NaN      NaN   \n",
      "\n",
      "                                            date posted    latitude  longitude  \n",
      "1710  With all the guns in this country...why hasn&#...  10/27/2004        0.0  \n",
      "\n",
      "Null Cities: 195\n"
     ]
    }
   ],
   "source": [
    "#complete\n",
    "nullCity = ufos.loc[ufos.city.isna()]\n",
    "number = ufos['city'].isna().sum()\n",
    "print(nullCity.head(1))\n",
    "print(\"\\nNull Cities: \" + str(number))"
   ]
  },
  {
   "cell_type": "markdown",
   "metadata": {},
   "source": [
    "\n",
    "5. Now we want to replace all of those NaN values with \"UNKNOWN\". And while we are at it, convert all the values to upper case. \n"
   ]
  },
  {
   "cell_type": "code",
   "execution_count": 6,
   "metadata": {},
   "outputs": [],
   "source": [
    "#complete\n",
    "ufos['city'] = ufos['city'].fillna(\"unkown\")\n",
    "ufos['city'] = ufos['city'].str.upper()\n",
    "#ufos.head(1711)"
   ]
  },
  {
   "cell_type": "markdown",
   "metadata": {},
   "source": [
    "\n",
    "6. Repeat that for the state, country and shape fields and use 'XX' for NaN values in state and country and \"UNKNOWN\" for shape. \n"
   ]
  },
  {
   "cell_type": "code",
   "execution_count": 7,
   "metadata": {},
   "outputs": [],
   "source": [
    "#complete\n",
    "ufos['state'] = ufos['state'].fillna(\"xx\")\n",
    "ufos['country'] = ufos['country'].fillna(\"xx\")\n",
    "ufos['shape'] = ufos['shape'].fillna(\"unkown\")\n",
    "ufos['state'] = ufos['state'].str.upper()\n",
    "ufos['country'] = ufos['country'].str.upper()\n",
    "ufos['shape'] = ufos['shape'].str.upper()\n",
    "#ufos.head(1711)"
   ]
  },
  {
   "cell_type": "markdown",
   "metadata": {},
   "source": [
    "\n",
    "7. How many sightings have there been in Calgary? Your answer should be: \"There have been XX sightings in Calgary\". Scan the data to see how the cities are entered. \n"
   ]
  },
  {
   "cell_type": "code",
   "execution_count": 8,
   "metadata": {},
   "outputs": [
    {
     "name": "stdout",
     "output_type": "stream",
     "text": [
      "There have been 90 sightings in Calgary.\n"
     ]
    }
   ],
   "source": [
    "#complete\n",
    "inCalgary = ufos['city'].str.contains('CALGARY').sum()\n",
    "print(\"There have been \" + str(inCalgary) + \" sightings in Calgary.\")"
   ]
  },
  {
   "cell_type": "markdown",
   "metadata": {},
   "source": [
    "\n",
    "8. What are the unique shapes and how many of each area there? List from most to least. \n"
   ]
  },
  {
   "cell_type": "code",
   "execution_count": 9,
   "metadata": {
    "scrolled": true
   },
   "outputs": [
    {
     "name": "stdout",
     "output_type": "stream",
     "text": [
      "There are 30 unique U.F.O. shapes.\n"
     ]
    },
    {
     "data": {
      "text/plain": [
       "LIGHT        17872\n",
       "TRIANGLE      8489\n",
       "CIRCLE        8453\n",
       "FIREBALL      6562\n",
       "UNKNOWN       6319\n",
       "OTHER         6247\n",
       "DISK          6005\n",
       "SPHERE        5755\n",
       "OVAL          4119\n",
       "UNKOWN        3117\n",
       "FORMATION     2657\n",
       "CIGAR         2241\n",
       "CHANGING      2140\n",
       "FLASH         1472\n",
       "RECTANGLE     1418\n",
       "CYLINDER      1382\n",
       "DIAMOND       1308\n",
       "CHEVRON       1007\n",
       "EGG            845\n",
       "TEARDROP       817\n",
       "CONE           367\n",
       "CROSS          265\n",
       "DELTA            8\n",
       "ROUND            2\n",
       "CRESCENT         2\n",
       "FLARE            1\n",
       "HEXAGON          1\n",
       "DOME             1\n",
       "CHANGED          1\n",
       "PYRAMID          1\n",
       "Name: shape, dtype: int64"
      ]
     },
     "execution_count": 9,
     "metadata": {},
     "output_type": "execute_result"
    }
   ],
   "source": [
    "#complete\n",
    "uShape = ufos['shape'].unique()\n",
    "print(\"There are \" + str(len(uShape)) + \" unique U.F.O. shapes.\")\n",
    "ufos['shape'].value_counts()"
   ]
  },
  {
   "cell_type": "markdown",
   "metadata": {},
   "source": [
    "\n",
    "9. Show the values for record number 131. \n"
   ]
  },
  {
   "cell_type": "code",
   "execution_count": 10,
   "metadata": {
    "scrolled": true
   },
   "outputs": [
    {
     "data": {
      "text/plain": [
       "datetime                                        10/10/2003 19:15\n",
       "city                                                 CENTREVILLE\n",
       "state                                                         VA\n",
       "country                                                       US\n",
       "shape                                                      OTHER\n",
       "dur_s                                                        600\n",
       "dur                                                   10 minutes\n",
       "comments       Aliens check out local high school football game.\n",
       "date posted                                           10/15/2003\n",
       "latitude                                              38.8402778\n",
       "longitude                                               -77.4292\n",
       "Name: 131, dtype: object"
      ]
     },
     "execution_count": 10,
     "metadata": {},
     "output_type": "execute_result"
    }
   ],
   "source": [
    "#complete\n",
    "ufos.iloc[131]"
   ]
  },
  {
   "cell_type": "markdown",
   "metadata": {},
   "source": [
    "\n",
    "10. Show just the date and comments for record number 131. \n"
   ]
  },
  {
   "cell_type": "code",
   "execution_count": 11,
   "metadata": {},
   "outputs": [
    {
     "name": "stdout",
     "output_type": "stream",
     "text": [
      "Date: 10/10/2003 19:15\n",
      "Comment: Aliens check out local high school football game.\n"
     ]
    }
   ],
   "source": [
    "#complete\n",
    "date131 = ufos.iloc[131,0]\n",
    "comment131 = ufos.iloc[131,7]\n",
    "print(\"Date: \" + str(date131) + \"\\nComment: \" + str(comment131))"
   ]
  },
  {
   "cell_type": "markdown",
   "metadata": {},
   "source": [
    "\n",
    "11. What are the maximum, average and median durations of the sighting, in seconds?\n"
   ]
  },
  {
   "cell_type": "code",
   "execution_count": 12,
   "metadata": {},
   "outputs": [
    {
     "name": "stdout",
     "output_type": "stream",
     "text": [
      "Maximum: 97836000.0\n",
      "Average: 8373.22318931722\n",
      "Median: 120.0\n"
     ]
    }
   ],
   "source": [
    "#complete\n",
    "sec = ufos['dur_s']\n",
    "maxS = sec.max()\n",
    "avgS = sec.mean()\n",
    "medS = sec.median()\n",
    "print(\"Maximum: \" + str(maxS) + \"\\nAverage: \" + str(avgS) + \"\\nMedian: \" + str(medS))"
   ]
  },
  {
   "cell_type": "markdown",
   "metadata": {},
   "source": [
    "\n",
    "12. Write your edited dataframe to a new CSV file. \n"
   ]
  },
  {
   "cell_type": "code",
   "execution_count": 13,
   "metadata": {},
   "outputs": [],
   "source": [
    "#complete\n",
    "ufos.to_csv(\"complete2.csv\")"
   ]
  },
  {
   "cell_type": "code",
   "execution_count": null,
   "metadata": {},
   "outputs": [],
   "source": []
  }
 ],
 "metadata": {
  "kernelspec": {
   "display_name": "Python 3",
   "language": "python",
   "name": "python3"
  },
  "language_info": {
   "codemirror_mode": {
    "name": "ipython",
    "version": 3
   },
   "file_extension": ".py",
   "mimetype": "text/x-python",
   "name": "python",
   "nbconvert_exporter": "python",
   "pygments_lexer": "ipython3",
   "version": "3.8.5"
  }
 },
 "nbformat": 4,
 "nbformat_minor": 2
}
