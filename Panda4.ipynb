{
 "cells": [
  {
   "cell_type": "code",
   "execution_count": 1,
   "metadata": {},
   "outputs": [],
   "source": [
    "import pandas as pd\n",
    "pd.set_option('max_rows', 5)\n",
    "import numpy as np\n",
    "reviews = pd.read_csv(\"E:/2021 Winter Semester/COMP 4522 Database2/Miscellaneous/winemag-data-130k-v2.csv\",\n",
    "                      index_col=0)"
   ]
  },
  {
   "cell_type": "code",
   "execution_count": 2,
   "metadata": {},
   "outputs": [
    {
     "data": {
      "text/plain": [
       "points\n",
       "80     397\n",
       "81     692\n",
       "      ... \n",
       "99      33\n",
       "100     19\n",
       "Name: points, Length: 21, dtype: int64"
      ]
     },
     "execution_count": 2,
     "metadata": {},
     "output_type": "execute_result"
    }
   ],
   "source": [
    "reviews.groupby('points').points.count()"
   ]
  },
  {
   "cell_type": "code",
   "execution_count": 3,
   "metadata": {},
   "outputs": [
    {
     "data": {
      "text/plain": [
       "points\n",
       "80      5.0\n",
       "81      5.0\n",
       "       ... \n",
       "99     44.0\n",
       "100    80.0\n",
       "Name: price, Length: 21, dtype: float64"
      ]
     },
     "execution_count": 3,
     "metadata": {},
     "output_type": "execute_result"
    }
   ],
   "source": [
    "reviews.groupby('points').price.min()"
   ]
  },
  {
   "cell_type": "code",
   "execution_count": 4,
   "metadata": {},
   "outputs": [
    {
     "data": {
      "text/plain": [
       "winery\n",
       "1+1=3                          1+1=3 NV Rosé Sparkling (Cava)\n",
       "10 Knots                 10 Knots 2010 Viognier (Paso Robles)\n",
       "                                  ...                        \n",
       "àMaurice    àMaurice 2013 Fred Estate Syrah (Walla Walla V...\n",
       "Štoka                         Štoka 2009 Izbrani Teran (Kras)\n",
       "Length: 16757, dtype: object"
      ]
     },
     "execution_count": 4,
     "metadata": {},
     "output_type": "execute_result"
    }
   ],
   "source": [
    "reviews.groupby('winery').apply(lambda df: df.title.iloc[0])"
   ]
  },
  {
   "cell_type": "code",
   "execution_count": null,
   "metadata": {},
   "outputs": [],
   "source": []
  }
 ],
 "metadata": {
  "kernelspec": {
   "display_name": "Python 3",
   "language": "python",
   "name": "python3"
  },
  "language_info": {
   "codemirror_mode": {
    "name": "ipython",
    "version": 3
   },
   "file_extension": ".py",
   "mimetype": "text/x-python",
   "name": "python",
   "nbconvert_exporter": "python",
   "pygments_lexer": "ipython3",
   "version": "3.8.5"
  }
 },
 "nbformat": 4,
 "nbformat_minor": 4
}
